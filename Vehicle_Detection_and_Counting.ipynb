{
  "nbformat": 4,
  "nbformat_minor": 0,
  "metadata": {
    "colab": {
      "name": "Vehicle Detection and Counting.ipynb",
      "provenance": [],
      "collapsed_sections": [],
      "toc_visible": true
    },
    "kernelspec": {
      "name": "python3",
      "display_name": "Python 3"
    }
  },
  "cells": [
    {
      "cell_type": "code",
      "metadata": {
        "id": "SUnCIZ6NTGQt"
      },
      "source": [
        "import cv2\n",
        "import os\n",
        "import numpy as np\n",
        "import glob\n",
        "import random\n",
        "import time \n",
        "import matplotlib.pyplot as plt\n",
        "import re\n",
        "from PIL import Image\n",
        "import re"
      ],
      "execution_count": 1,
      "outputs": []
    },
    {
      "cell_type": "code",
      "metadata": {
        "id": "4pCMU4muZrPV"
      },
      "source": [
        "video_dir='/content/drive/MyDrive/Sproj2/videos/Gulberg_night.mp4'\n",
        "frames_dir='/content/frames_night_gulberg/'\n",
        "resized_frames_dir='/content/resized_night_gulberg/'\n",
        "results_dir='/content/results_night_gulberg/'"
      ],
      "execution_count": 2,
      "outputs": []
    },
    {
      "cell_type": "markdown",
      "metadata": {
        "id": "aMEKpVVWgujS"
      },
      "source": [
        "## **Generate frames from video**"
      ]
    },
    {
      "cell_type": "code",
      "metadata": {
        "id": "KcgW3y1NZqa1"
      },
      "source": [
        "!rm -rf '/content/resized_night_gulberg'"
      ],
      "execution_count": 27,
      "outputs": []
    },
    {
      "cell_type": "code",
      "metadata": {
        "id": "nJdxmKUX_mji"
      },
      "source": [
        "# Generate frames from video\n",
        "cap= cv2.VideoCapture(video_dir)\n",
        "i=0\n",
        "!mkdir '/content/frames_night_gulberg/'\n",
        "count=0\n",
        "while(cap.isOpened()):\n",
        "    ret, frame = cap.read()\n",
        "    if ret == False:\n",
        "        break\n",
        "    # value of i=1800 to save 1800/5 frames (360 frames)\n",
        "    # if i==1800:\n",
        "    #   break\n",
        "    if count==360:\n",
        "      break\n",
        "    if i>=2700:\n",
        "      if i%5==0:\n",
        "        cv2.imwrite(frames_dir+str(count)+'.jpg',frame)\n",
        "        count+=1\n",
        "    i+=1\n",
        "\n",
        " \n",
        "cap.release()\n",
        "cv2.destroyAllWindows()\n"
      ],
      "execution_count": 3,
      "outputs": []
    },
    {
      "cell_type": "markdown",
      "metadata": {
        "id": "kn0J3FM6g2bz"
      },
      "source": [
        "# **Run the cells below to resize images**"
      ]
    },
    {
      "cell_type": "code",
      "metadata": {
        "id": "6TLDCQ1xUUFE"
      },
      "source": [
        "def sorted_alphanumeric(data):\n",
        "    convert = lambda text: int(text) if text.isdigit() else text.lower()\n",
        "    alphanum_key = lambda key: [ convert(c) for c in re.split('([0-9]+)', key)] \n",
        "    return sorted(data, key=alphanum_key)"
      ],
      "execution_count": 4,
      "outputs": []
    },
    {
      "cell_type": "code",
      "metadata": {
        "id": "MdczEBWeAqH2"
      },
      "source": [
        "# Resize all the frames to size of (1024,1920,3) from (1080,1920,3)\n",
        "# Pythono3 code to rename multiple \n",
        "# files in a directory or folder \n",
        "\n",
        "# Function to rename multiple files \n",
        "!mkdir '/content/resized_night_gulberg/'\n",
        "def main(): \n",
        "\n",
        "\tfor count, filename in enumerate(sorted_alphanumeric(os.listdir(frames_dir))):\n",
        "\t\timage = Image.open(frames_dir+filename)\n",
        "\t\tnew_image = image.resize((1024, 1920))\n",
        "\t\tnew_image.save(resized_frames_dir+str(count)+'.jpg')\n",
        "\t\tprint(image.size) # Output: (1200, 776)\n",
        "\t\tprint(new_image.size) # Output: (400, 400)\n",
        "\t\t\n",
        "\t\t# rename() function will \n",
        "\t\t# rename all the files \n",
        "\t\t \n",
        "\n",
        "# Driver Code \n",
        "if __name__ == '__main__': \n",
        "\t\n",
        "\t# Calling main() function \n",
        "\tmain() \n"
      ],
      "execution_count": null,
      "outputs": []
    },
    {
      "cell_type": "markdown",
      "metadata": {
        "id": "_7doJwidh__2"
      },
      "source": [
        "# **Yolo Detection**"
      ]
    },
    {
      "cell_type": "code",
      "metadata": {
        "id": "Dg6PKLFxqMIy"
      },
      "source": [
        "!cp -r '/content/drive/MyDrive/Sproj2/vehicle-yolov3_9500.weights' '/content/'"
      ],
      "execution_count": 7,
      "outputs": []
    },
    {
      "cell_type": "code",
      "metadata": {
        "colab": {
          "base_uri": "https://localhost:8080/"
        },
        "id": "seZDuRX_nleX",
        "outputId": "2c876164-b068-4833-d451-c381906b014e"
      },
      "source": [
        "%%writefile /content/vehicle-yolov3.cfg\n",
        "[net]\n",
        "# Testing\n",
        "# batch=64\n",
        "subdivisions=8\n",
        "# Training\n",
        "batch=24\n",
        "subdivisions=2\n",
        "width=416\n",
        "height=416\n",
        "channels=3\n",
        "momentum=0.9\n",
        "decay=0.0005\n",
        "angle=0\n",
        "saturation = 1.5\n",
        "exposure = 1.5\n",
        "hue=.1\n",
        "\n",
        "learning_rate=0.001\n",
        "burn_in=1000\n",
        "max_batches = 500200\n",
        "policy=steps\n",
        "steps=400000,450000\n",
        "scales=.1,.1\n",
        "\n",
        "[convolutional]\n",
        "batch_normalize=1\n",
        "filters=16\n",
        "size=3\n",
        "stride=1\n",
        "pad=1\n",
        "activation=leaky\n",
        "\n",
        "[maxpool]\n",
        "size=2\n",
        "stride=2\n",
        "\n",
        "[convolutional]\n",
        "batch_normalize=1\n",
        "filters=32\n",
        "size=3\n",
        "stride=1\n",
        "pad=1\n",
        "activation=leaky\n",
        "\n",
        "[maxpool]\n",
        "size=2\n",
        "stride=2\n",
        "\n",
        "[convolutional]\n",
        "batch_normalize=1\n",
        "filters=64\n",
        "size=3\n",
        "stride=1\n",
        "pad=1\n",
        "activation=leaky\n",
        "\n",
        "[maxpool]\n",
        "size=2\n",
        "stride=2\n",
        "\n",
        "[convolutional]\n",
        "batch_normalize=1\n",
        "filters=128\n",
        "size=3\n",
        "stride=1\n",
        "pad=1\n",
        "activation=leaky\n",
        "\n",
        "[maxpool]\n",
        "size=2\n",
        "stride=2\n",
        "\n",
        "[convolutional]\n",
        "batch_normalize=1\n",
        "filters=256\n",
        "size=3\n",
        "stride=1\n",
        "pad=1\n",
        "activation=leaky\n",
        "\n",
        "[maxpool]\n",
        "size=2\n",
        "stride=2\n",
        "\n",
        "[convolutional]\n",
        "batch_normalize=1\n",
        "filters=512\n",
        "size=3\n",
        "stride=1\n",
        "pad=1\n",
        "activation=leaky\n",
        "\n",
        "[maxpool]\n",
        "size=2\n",
        "stride=1\n",
        "\n",
        "[convolutional]\n",
        "batch_normalize=1\n",
        "filters=1024\n",
        "size=3\n",
        "stride=1\n",
        "pad=1\n",
        "activation=leaky\n",
        "\n",
        "###########\n",
        "\n",
        "[convolutional]\n",
        "batch_normalize=1\n",
        "filters=256\n",
        "size=1\n",
        "stride=1\n",
        "pad=1\n",
        "activation=leaky\n",
        "\n",
        "[convolutional]\n",
        "batch_normalize=1\n",
        "filters=512\n",
        "size=3\n",
        "stride=1\n",
        "pad=1\n",
        "activation=leaky\n",
        "\n",
        "[convolutional]\n",
        "size=1\n",
        "stride=1\n",
        "pad=1\n",
        "filters=36\n",
        "activation=linear\n",
        "\n",
        "\n",
        "\n",
        "[yolo]\n",
        "mask = 3,4,5\n",
        "anchors = 10,14,  23,27,  37,58,  81,82,  135,169,  344,319\n",
        "classes=7\n",
        "num=6\n",
        "jitter=.3\n",
        "ignore_thresh = .7\n",
        "truth_thresh = 1\n",
        "random=1\n",
        "\n",
        "[route]\n",
        "layers = -4\n",
        "\n",
        "[convolutional]\n",
        "batch_normalize=1\n",
        "filters=128\n",
        "size=1\n",
        "stride=1\n",
        "pad=1\n",
        "activation=leaky\n",
        "\n",
        "[upsample]\n",
        "stride=2\n",
        "\n",
        "[route]\n",
        "layers = -1, 8\n",
        "\n",
        "[convolutional]\n",
        "batch_normalize=1\n",
        "filters=256\n",
        "size=3\n",
        "stride=1\n",
        "pad=1\n",
        "activation=leaky\n",
        "\n",
        "[convolutional]\n",
        "size=1\n",
        "stride=1\n",
        "pad=1\n",
        "filters=36\n",
        "activation=linear\n",
        "\n",
        "[yolo]\n",
        "mask = 0,1,2\n",
        "anchors = 10,14,  23,27,  37,58,  81,82,  135,169,  344,319\n",
        "classes=7\n",
        "num=6\n",
        "jitter=.3\n",
        "ignore_thresh = .7\n",
        "truth_thresh = 1\n",
        "random=1"
      ],
      "execution_count": 6,
      "outputs": [
        {
          "output_type": "stream",
          "text": [
            "Writing /content/vehicle-yolov3.cfg\n"
          ],
          "name": "stdout"
        }
      ]
    },
    {
      "cell_type": "code",
      "metadata": {
        "id": "pTLPsTQKw3bp"
      },
      "source": [
        "# Load Yolo\n",
        "load_dir='/content/'\n",
        "yolo_net = cv2.dnn.readNet( load_dir + \"vehicle-yolov3_9500.weights\", load_dir + \"vehicle-yolov3.cfg\")\n",
        "\n",
        "layer_names = yolo_net.getLayerNames()\n",
        "\n",
        "output_layers = [layer_names[i[0] - 1] for i in yolo_net.getUnconnectedOutLayers()]"
      ],
      "execution_count": 8,
      "outputs": []
    },
    {
      "cell_type": "code",
      "metadata": {
        "id": "eIEsZBS6xyJ_"
      },
      "source": [
        "# Object Name\n",
        "classes = [\"Bike\",\"Bus\",\"Car\",\"MiniBus\",\"MiniTruck\",\"Rickshaw\",\"Truck\"]\n",
        "colors = np.random.uniform(0, 255, size=(len(classes), 3))"
      ],
      "execution_count": 9,
      "outputs": []
    },
    {
      "cell_type": "code",
      "metadata": {
        "id": "383nitCUx5wr"
      },
      "source": [
        "# This will create a text file containing cordinates of bounding boxes of vehicles to be used for counting.\n",
        "def Object_Detection(img,count,f):\n",
        "    \n",
        "    # for key in list(current_frame.keys()):\n",
        "        \n",
        "    begin = time.time() \n",
        "    \n",
        "    # Image \n",
        "    # img = current_frame[key]\n",
        "    height, width, channels = img.shape\n",
        "    # print(height,width,channels)\n",
        "    # Detecting objects\n",
        "    blob = cv2.dnn.blobFromImage(img, 0.00392, (416, 416), (0, 0, 0), True, crop=False)\n",
        "\n",
        "    yolo_net.setInput(blob)\n",
        "    outs = yolo_net.forward(output_layers)\n",
        "\n",
        "    # Showing informations on the screen\n",
        "    class_ids = []\n",
        "    confidences = []\n",
        "    boxes = [] \n",
        "    for out in outs:\n",
        "        for detection in out:\n",
        "            scores = detection[5:]\n",
        "            class_id = np.argmax(scores)\n",
        "            confidence = scores[class_id]\n",
        "            if confidence > 0.8:\n",
        "                center_x = int(detection[0] * width)\n",
        "                center_y = int(detection[1] * height)\n",
        "                w = int(detection[2] * width)\n",
        "                h = int(detection[3] * height)\n",
        "                x = int(center_x - w / 2)\n",
        "                y = int(center_y - h / 2)\n",
        "                # for i in range(15):\n",
        "                #   rand_point_x=random.randint(x,x+w)\n",
        "                #   rand_point_y=random.randint(y,y+h)\n",
        "                #   f.write(str(rand_point_x)+' '+str(rand_point_y) + ' ')\n",
        "                label=classes[class_id]\n",
        "                f.write('{} {} {} {} {} '.format(x,y,w,h,label))\n",
        "\n",
        "                boxes.append([x, y, w, h])\n",
        "                confidences.append(float(confidence))\n",
        "                class_ids.append(class_id)\n",
        "    f.write('\\n')\n",
        "    indexes = cv2.dnn.NMSBoxes(boxes, confidences, 0.5, 0.4)\n",
        "    font = cv2.ACCESS_MASK\n",
        "    for i in range(len(boxes)):\n",
        "        if i in indexes:\n",
        "            x, y, w, h = boxes[i]\n",
        "            label = str(classes[class_ids[i]])\n",
        "            color = colors[class_ids[i]]\n",
        "            # cv2.putText(img,'x',(x,y),cv2.FONT_HERSHEY_SIMPLEX,1,color = (255, 0, 0))\n",
        "            # cv2.putText(img,'x',(x+w,y+h),cv2.FONT_HERSHEY_SIMPLEX,1,color = (255, 0, 0))\n",
        "            cv2.rectangle(img, (x, y), (x + w, y + h), (0,0,255), 1)\n",
        "            cv2.putText(img, label+ str(np.around(confidences[i],2)*100) + \"%\", (x, y-5), font, 0.4, (0,0,255), 1)\n",
        "\n",
        "    # cv2.imshow(key, img)\n",
        "    # print(key)\n",
        "    cv2.imwrite(results_dir+str(count)+'.jpg',img)\n",
        "    cv2.waitKey(2)"
      ],
      "execution_count": 29,
      "outputs": []
    },
    {
      "cell_type": "code",
      "metadata": {
        "id": "rlTizPr0wMZx",
        "colab": {
          "base_uri": "https://localhost:8080/"
        },
        "outputId": "90dd8e72-c2e0-4743-9fd9-a6a072a79600"
      },
      "source": [
        "import time\n",
        "t0=time.time()\n",
        "count=0\n",
        "f=open('cords_gulberg_night.txt','w')\n",
        "!mkdir '/content/results_night_gulberg'\n",
        "for i,item in enumerate(sorted_alphanumeric(os.listdir(resized_frames_dir))):\n",
        "  img=cv2.imread(resized_frames_dir+item)\n",
        "  Object_Detection(img,count,f)\n",
        "  count+=1\n",
        "f.close()\n",
        "t1=time.time()\n",
        "total_time=t1-t0\n",
        "print(total_time)"
      ],
      "execution_count": 30,
      "outputs": [
        {
          "output_type": "stream",
          "text": [
            "77.55743622779846\n"
          ],
          "name": "stdout"
        }
      ]
    },
    {
      "cell_type": "code",
      "metadata": {
        "id": "z8MSH-m8zAA9"
      },
      "source": [
        "!zip -r 'frames_night_gulberg.zip' '/content/resized_night_gulberg'"
      ],
      "execution_count": null,
      "outputs": []
    },
    {
      "cell_type": "markdown",
      "metadata": {
        "id": "E1yTMY_vjA2d"
      },
      "source": [
        "# Vehicle Counting"
      ]
    },
    {
      "cell_type": "code",
      "metadata": {
        "id": "r93T5uwW0veV"
      },
      "source": [
        "import numpy as np\n",
        "import os\n",
        "import random\n",
        "import cv2\n",
        "import re"
      ],
      "execution_count": null,
      "outputs": []
    },
    {
      "cell_type": "markdown",
      "metadata": {
        "id": "qyUA5t2GzZFR"
      },
      "source": [
        "The function below reads the cordinates of the ends of the two lines. \n",
        "Line 1 of txt file contains points of bottom line\n",
        "Line 2 of txt file contains points of top line"
      ]
    },
    {
      "cell_type": "code",
      "metadata": {
        "id": "A_QkV7W2zWbo"
      },
      "source": [
        "def read_line_cords(f):\n",
        "    line1_cords=f.readline().split()\n",
        "    line2_cords=f.readline().split()\n",
        "    return line1_cords,line2_cords"
      ],
      "execution_count": null,
      "outputs": []
    },
    {
      "cell_type": "code",
      "metadata": {
        "id": "qvJCVOu90kgp"
      },
      "source": [
        "# This function checks if the point lies within the two lines. Returns 1 if true, else returns 0\n",
        "def check_insider(cords,line_cords):\n",
        "#    y=0.074x + 412.595 line1\n",
        "    # y=0.074x + 399.684 line 2\n",
        "    x,y=cords\n",
        "    y1,y2=line_cords\n",
        "    y1=int(y1)\n",
        "    y2=int(y2)\n",
        "    # print(y1,y2)\n",
        "    # print(y)\n",
        "     \n",
        "    # y1= 0.079*x + 399.684\n",
        "    if y<y1 and y>y2:\n",
        "        return 1\n",
        "    else:\n",
        "        return 0"
      ],
      "execution_count": null,
      "outputs": []
    },
    {
      "cell_type": "code",
      "metadata": {
        "id": "LsDrwHaf0yta"
      },
      "source": [
        "# make_flow function is used to read flo file and returns numpy array\n",
        "def make_flow(flo):\n",
        "    tag = np.fromfile(flo, np.float32, count=1)[0]\n",
        "    width = np.fromfile(flo, np.int32, count=1)[0]\n",
        "    # print(width)\n",
        "    height = np.fromfile(flo, np.int32, count=1)[0]\n",
        "    # print(height)\n",
        "    nbands = 2\n",
        "    tmp = np.fromfile(flo, np.float32, count= nbands * width * height)\n",
        "    flow = np.resize(tmp, (int(height), int(width), int(nbands)))\n",
        "    return flow"
      ],
      "execution_count": null,
      "outputs": []
    },
    {
      "cell_type": "code",
      "metadata": {
        "id": "iNNVbV46jIn1"
      },
      "source": [
        "\n",
        "# Read flowframe\n",
        "# From flownet code\n",
        "# Read the flowframe and return numpy array\n",
        "\n",
        "\n",
        " \n",
        "\n",
        "\n",
        "def sorted_alphanumeric(data):\n",
        "    convert = lambda text: int(text) if text.isdigit() else text.lower()\n",
        "    alphanum_key = lambda key: [ convert(c) for c in re.split('([0-9]+)', key) ] \n",
        "    return sorted(data, key=alphanum_key)\n",
        "\n",
        "\n",
        "# Commented flow part\n",
        "# flo_names=sorted_alphanumeric(os.listdir('/content/drive/MyDrive/Sproj2/Flo_600'))\n",
        "# print(len(flo_names))\n",
        "# flo_np_arr=[]\n",
        "# for i in range(len(flo_names)-300):\n",
        "#     x = open(f\"/content/drive/MyDrive/Sproj2/Flo_600/{flo_names[i]}\", \"r\") \n",
        "#     flowf = make_flow(x)\n",
        "#     print('flow',flowf.shape)\n",
        "#     flo_np_arr.append(flowf)\n",
        "    # print(flowf.shape)\n",
        "\n",
        "\n",
        "# print(flowf[8][323])\n",
        "# print(flo_np_arr)\n",
        "\n",
        "def count_classes(label,count_c):\n",
        "  if label=='Bike':\n",
        "    count_c[0]+=1\n",
        "  elif label=='Car':\n",
        "    count_c[1]+=1\n",
        "  elif label=='Minibus':\n",
        "    count_c[2]+=1\n",
        "  elif label=='MiniTruck':\n",
        "    count_c[3]+=1\n",
        "  elif label=='Truck':\n",
        "    count_c[4]+=1\n",
        "  elif label=='Rickshaw':\n",
        "    count_c[5]+=1\n",
        "  elif label=='Bus':\n",
        "    count_c[6]+=1\n",
        "  return count_c\n",
        "\n",
        "def read_coords(filename):\n",
        "    count_c=[0,0,0,0,0,0,0]\n",
        "    f=open(filename,'r')\n",
        "    line_cords_filename='./day_gulberg.txt'\n",
        "    f2=open(line_cords_filename,'r')\n",
        "    line1_cords,line2_cords=read_line_cords(f2)\n",
        "    images_coords=f.read().split('\\n')\n",
        "    car_cords=[]\n",
        "    cars_dict={}\n",
        "    all_image_vel_x=[]\n",
        "    all_image_vel_y=[]\n",
        "    image_names=sorted_alphanumeric(os.listdir('D:/sproj 2/Code/Dataset/Day_gulberg/frames_gulberg_day/content/resized_gulberg_day'))\n",
        "    count=0\n",
        "    for i in range(len(images_coords)-1):\n",
        "        img=cv2.imread('D:/sproj 2/Code/Dataset/Day_gulberg/frames_gulberg_day/content/resized_gulberg_day/'+image_names[i])\n",
        "        print('image',img.shape)\n",
        "        points_arr=images_coords[i].split()\n",
        "        # print(len(points_arr))\n",
        "        all_car_vel_x=[]\n",
        "        all_car_vel_y=[]\n",
        "        for j in range(1,len(points_arr)+1):\n",
        "            if j%5!=0:\n",
        "                car_cords.append(points_arr[j-1])\n",
        "            else:\n",
        "                car_cords.append(points_arr[j-1])\n",
        "                sin_car_vel_x=[]\n",
        "                sin_car_vel_y=[]\n",
        "                check=[]\n",
        "                num=0\n",
        "                for x in range(50):\n",
        "                    # rand_point_x=1930\n",
        "                    # while rand_point_x > 1920:\n",
        "                    if (int(car_cords[0])+int(car_cords[2]) > 1920) or (int(car_cords[1])+int(car_cords[3])>1024):\n",
        "                        # print(\"x+w ... \",int(car_cords[0])+int(car_cords[2]))\n",
        "                        # print(\"y+h ... \",int(car_cords[1]) + int(car_cords[3]))\n",
        "                        # print('x=',x)\n",
        "                        # print(num)\n",
        "                        num+=1\n",
        "                        continue\n",
        "                    else:\n",
        "                        # print('here')\n",
        "                        # print('x',car_cords[1],int(car_cords[1]) + int(car_cords[3]))\n",
        "                        # print('y',car_cords[0],int(car_cords[0])+int(car_cords[2]))\n",
        "                        rand_point_x=random.randint(round(int(car_cords[1])+((0.40)*int(car_cords[3]))),round(int(car_cords[1])+((0.60)*int(car_cords[3]))))\n",
        "                        rand_point_y=random.randint(round(int(car_cords[0])+((0.20)*int(car_cords[2]))),round(int(car_cords[0])+((0.80)*int(car_cords[2]))))\n",
        "                        check.append(check_insider((rand_point_y,rand_point_x),(line1_cords[1],line2_cords[1])))\n",
        "                        if check_insider((rand_point_y,rand_point_x),(line1_cords[1],line2_cords[1])):\n",
        "                            img=cv2.circle(img,(rand_point_y,rand_point_x),4,(255,0,0),3)\n",
        "\n",
        "                        # commented flow part\n",
        "                        # vel_x=flo_np_arr[i][rand_point_x][rand_point_y][1]\n",
        "                        # vel_y=flo_np_arr[i][rand_point_x][rand_point_y][0]\n",
        "                        # # print(vel_y)\n",
        "                        # sin_car_vel_x.append(vel_x)\n",
        "                        # sin_car_vel_y.append(vel_y)\n",
        "                \n",
        "\n",
        "                sum_check=sum(check)/50\n",
        "                if sum_check>0.50:\n",
        "                    count+=1\n",
        "                    count_c=count_classes(car_cords[4],count_c)\n",
        "\n",
        "\n",
        "                # all_car_vel_x.append(np.mean(sin_car_vel_x))\n",
        "                # all_car_vel_y.append(np.mean(sin_car_vel_y))\n",
        "\n",
        "                font = cv2.FONT_HERSHEY_SIMPLEX\n",
        "                fontScale = 1\n",
        "                # img=cv2.putText(img,'x: '+str(np.mean(sin_car_vel_x)),(round(int(car_cords[0])+(0.25)*int(car_cords[2])),round(int(car_cords[1])+(0.25)*int(car_cords[3])+35)),font,fontScale,color = (255, 0, 0))\n",
        "                # img=cv2.putText(img,'y: '+str(np.mean(sin_car_vel_y)),(round(int(car_cords[0])+(0.25)*int(car_cords[2])),round(int(car_cords[1])+(0.25)*int(car_cords[3]))),font,fontScale,color = (255, 0, 0))\n",
        "                img=cv2.putText(img,car_cords[4],(round(int(car_cords[0])+(0.25)*int(car_cords[2])),round(int(car_cords[1])+(0.25)*int(car_cords[3])+35)),font,fontScale,color = (255, 0, 0))\n",
        "                img=cv2.rectangle(img,((round(int(car_cords[0])+(0.20)*int(car_cords[2])),round(int(car_cords[1])+(0.40)*int(car_cords[3])))),(round(int(car_cords[0])+(0.80)*int(car_cords[2])),round(int(car_cords[1])+(0.60)*int(car_cords[3]))),(255, 0, 0),1)\n",
        "                img=cv2.rectangle(img,(int(car_cords[0]),int(car_cords[1])),(int(car_cords[0])+int(car_cords[2]),int(car_cords[1])+int(car_cords[3])),(255, 0, 0),1)\n",
        "                # print(all_car_vel)\n",
        "                car_cords=[]\n",
        "        # all_image_vel_x.append(all_car_vel_x)\n",
        "        # all_image_vel_y.append(all_car_vel_y)\n",
        "        color=(172,172,172)\n",
        "        color=(255,0,0)\n",
        "        image=cv2.line(img,(int(line1_cords[0]),int(line1_cords[1])),(int(line1_cords[2]),int(line1_cords[3])),(0,0,255),5)\n",
        "        image=cv2.line(img,(int(line2_cords[0]),int(line2_cords[1])),(int(line2_cords[2]),int(line2_cords[3])),(0,0,255),5)\n",
        "        image=cv2.putText(image,f'Car: {count_c[1]}',(30,30),font,fontScale,color = color,thickness=2)\n",
        "        image=cv2.putText(image,f'Bike: {count_c[0]}',(250,30),font,fontScale,color = color,thickness=2)\n",
        "        image=cv2.putText(image,f'Rickshaw: {count_c[5]}',(470,30),font,fontScale,color = color,thickness=2)\n",
        "        image=cv2.putText(image,f'Bus: {count_c[6]}',(690,30),font,fontScale,color = color,thickness=2)\n",
        "        image=cv2.putText(image,f'Mini Bus: {count_c[2]}',(910,30),font,fontScale,color = color,thickness=2)\n",
        "        image=cv2.putText(image,f'Mini Truck: {count_c[3]}',(1130,30),font,fontScale,color = color,thickness=2)\n",
        "        image=cv2.putText(image,f'Truck: {count_c[4]}',(1350,30),font,fontScale,color = color,thickness=2)\n",
        "        \n",
        "        cv2.imwrite('./results_day_gulberg/'+str(i)+'.jpg',image)      \n",
        "    #     print(\"cars\",len(cars))\n",
        "    #     images.append(cars)\n",
        "    #     cars = []\n",
        "    # print(\"images:\",len(images))\n",
        "    # return all_image_vel_x,all_image_vel_y,count\n",
        "    return count\n",
        "# velx,vely,count=read_coords('/content/cords_600.txt')\n",
        "count=read_coords('D:/sproj 2/Code/cords_gulberg_day.txt')\n",
        "\n",
        "\n",
        "# print('x: ',velx)\n",
        "# print('y: ',vely)\n",
        "print(count)\n",
        "\n"
      ],
      "execution_count": null,
      "outputs": []
    }
  ]
}